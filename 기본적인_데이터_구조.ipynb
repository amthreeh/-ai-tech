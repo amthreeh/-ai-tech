{
  "nbformat": 4,
  "nbformat_minor": 0,
  "metadata": {
    "colab": {
      "provenance": [],
      "authorship_tag": "ABX9TyOcRHNQyc70dl23ja6HzFAL",
      "include_colab_link": true
    },
    "kernelspec": {
      "name": "python3",
      "display_name": "Python 3"
    },
    "language_info": {
      "name": "python"
    }
  },
  "cells": [
    {
      "cell_type": "markdown",
      "metadata": {
        "id": "view-in-github",
        "colab_type": "text"
      },
      "source": [
        "<a href=\"https://colab.research.google.com/github/amthreeh/-ai-tech/blob/main/%EA%B8%B0%EB%B3%B8%EC%A0%81%EC%9D%B8_%EB%8D%B0%EC%9D%B4%ED%84%B0_%EA%B5%AC%EC%A1%B0.ipynb\" target=\"_parent\"><img src=\"https://colab.research.google.com/assets/colab-badge.svg\" alt=\"Open In Colab\"/></a>"
      ]
    },
    {
      "cell_type": "markdown",
      "source": [
        "https://www.boostcourse.org/ai100/lecture/739169?isDesc=false 를 참고하여 따라하며 공부한 자료입니다."
      ],
      "metadata": {
        "id": "OYmwrtS5VzPE"
      }
    },
    {
      "cell_type": "markdown",
      "source": [
        "#stack"
      ],
      "metadata": {
        "id": "vBEJmEzpJRSc"
      }
    },
    {
      "cell_type": "code",
      "source": [
        "word = input(\"input a word : \")\n",
        "word_list = list(word)\n",
        "\n",
        "for _ in range(len(word_list)):\n",
        "  print(word_list.pop())\n",
        "  print(word_list)"
      ],
      "metadata": {
        "colab": {
          "base_uri": "https://localhost:8080/"
        },
        "id": "An2MebVxG9Ac",
        "outputId": "6ae35d08-0d09-4bf2-9714-c357f65104d6"
      },
      "execution_count": 1,
      "outputs": [
        {
          "output_type": "stream",
          "name": "stdout",
          "text": [
            "input a word : 3 3 4\n",
            "4\n",
            "['3', ' ', '3', ' ']\n",
            " \n",
            "['3', ' ', '3']\n",
            "3\n",
            "['3', ' ']\n",
            " \n",
            "['3']\n",
            "3\n",
            "[]\n"
          ]
        }
      ]
    },
    {
      "cell_type": "markdown",
      "source": [
        "#queue"
      ],
      "metadata": {
        "id": "88k7NzTnJO80"
      }
    },
    {
      "cell_type": "code",
      "source": [
        "a = [1,2,3,4,5]\n",
        "a.append(10)\n",
        "a.append(20)\n",
        "a"
      ],
      "metadata": {
        "colab": {
          "base_uri": "https://localhost:8080/"
        },
        "id": "4PDzeaA8ITwr",
        "outputId": "036cc116-9288-4684-c5fd-b7888ec4ad96"
      },
      "execution_count": 2,
      "outputs": [
        {
          "output_type": "execute_result",
          "data": {
            "text/plain": [
              "[1, 2, 3, 4, 5, 10, 20]"
            ]
          },
          "metadata": {},
          "execution_count": 2
        }
      ]
    },
    {
      "cell_type": "code",
      "source": [
        "first = a.pop(0)  #1출력\n",
        "first"
      ],
      "metadata": {
        "colab": {
          "base_uri": "https://localhost:8080/"
        },
        "id": "rgjKcrJZJNqS",
        "outputId": "d5e7ded6-831b-45b4-a30f-7bab1f2377f4"
      },
      "execution_count": 3,
      "outputs": [
        {
          "output_type": "execute_result",
          "data": {
            "text/plain": [
              "1"
            ]
          },
          "metadata": {},
          "execution_count": 3
        }
      ]
    },
    {
      "cell_type": "code",
      "source": [
        "a.pop(0) #1출력\n",
        "a.pop(0) #2출력"
      ],
      "metadata": {
        "colab": {
          "base_uri": "https://localhost:8080/"
        },
        "id": "GRlEm3aFJaAR",
        "outputId": "df59aa73-4977-4566-d5cb-ad8052c87f45"
      },
      "execution_count": 4,
      "outputs": [
        {
          "output_type": "execute_result",
          "data": {
            "text/plain": [
              "3"
            ]
          },
          "metadata": {},
          "execution_count": 4
        }
      ]
    },
    {
      "cell_type": "code",
      "source": [
        "a"
      ],
      "metadata": {
        "colab": {
          "base_uri": "https://localhost:8080/"
        },
        "id": "HfVw2d4kJnM2",
        "outputId": "8dc6acff-bf45-4b86-a298-faf5cadbbaf6"
      },
      "execution_count": 5,
      "outputs": [
        {
          "output_type": "execute_result",
          "data": {
            "text/plain": [
              "[4, 5, 10, 20]"
            ]
          },
          "metadata": {},
          "execution_count": 5
        }
      ]
    },
    {
      "cell_type": "markdown",
      "source": [
        "#tuple\n",
        "- 값의 변경이 불가능한 리스트\n",
        "- 선언 시 \"[]\"가 아닌 \"()\""
      ],
      "metadata": {
        "id": "82yxd2TkJqSM"
      }
    },
    {
      "cell_type": "code",
      "source": [
        "t = (1,2,3)\n",
        "type(t)"
      ],
      "metadata": {
        "colab": {
          "base_uri": "https://localhost:8080/"
        },
        "id": "6Ia-RK3hJoOP",
        "outputId": "e15b9722-613c-479d-d0c1-f97e5a96635e"
      },
      "execution_count": 6,
      "outputs": [
        {
          "output_type": "execute_result",
          "data": {
            "text/plain": [
              "tuple"
            ]
          },
          "metadata": {},
          "execution_count": 6
        }
      ]
    },
    {
      "cell_type": "code",
      "source": [
        "t+t"
      ],
      "metadata": {
        "colab": {
          "base_uri": "https://localhost:8080/"
        },
        "id": "4Qd9qbpBJ7At",
        "outputId": "66c077f3-ca77-40d1-ab86-dac1a53cf179"
      },
      "execution_count": 7,
      "outputs": [
        {
          "output_type": "execute_result",
          "data": {
            "text/plain": [
              "(1, 2, 3, 1, 2, 3)"
            ]
          },
          "metadata": {},
          "execution_count": 7
        }
      ]
    },
    {
      "cell_type": "code",
      "source": [
        "t*2"
      ],
      "metadata": {
        "colab": {
          "base_uri": "https://localhost:8080/"
        },
        "id": "YK4Y36pBJ8Qe",
        "outputId": "2777fca2-469e-4348-ff8d-a0415f6a46cb"
      },
      "execution_count": 8,
      "outputs": [
        {
          "output_type": "execute_result",
          "data": {
            "text/plain": [
              "(1, 2, 3, 1, 2, 3)"
            ]
          },
          "metadata": {},
          "execution_count": 8
        }
      ]
    },
    {
      "cell_type": "code",
      "source": [
        "t"
      ],
      "metadata": {
        "colab": {
          "base_uri": "https://localhost:8080/"
        },
        "id": "yUQxFddbKA5c",
        "outputId": "03256cf6-31ba-46b9-f397-ddeaf0e2e4eb"
      },
      "execution_count": 9,
      "outputs": [
        {
          "output_type": "execute_result",
          "data": {
            "text/plain": [
              "(1, 2, 3)"
            ]
          },
          "metadata": {},
          "execution_count": 9
        }
      ]
    },
    {
      "cell_type": "markdown",
      "source": [
        "t 자체는 변경이 안됨"
      ],
      "metadata": {
        "id": "no_PFb0xKCNd"
      }
    },
    {
      "cell_type": "code",
      "source": [
        "t[1] =5"
      ],
      "metadata": {
        "colab": {
          "base_uri": "https://localhost:8080/",
          "height": 172
        },
        "id": "Mhv-erw2KBYz",
        "outputId": "bc264f0d-6789-41f4-9ded-fc2c636c81d9"
      },
      "execution_count": 10,
      "outputs": [
        {
          "output_type": "error",
          "ename": "TypeError",
          "evalue": "ignored",
          "traceback": [
            "\u001b[0;31m---------------------------------------------------------------------------\u001b[0m",
            "\u001b[0;31mTypeError\u001b[0m                                 Traceback (most recent call last)",
            "\u001b[0;32m<ipython-input-10-b62ae2fd38a9>\u001b[0m in \u001b[0;36m<module>\u001b[0;34m\u001b[0m\n\u001b[0;32m----> 1\u001b[0;31m \u001b[0mt\u001b[0m\u001b[0;34m[\u001b[0m\u001b[0;36m1\u001b[0m\u001b[0;34m]\u001b[0m \u001b[0;34m=\u001b[0m\u001b[0;36m5\u001b[0m\u001b[0;34m\u001b[0m\u001b[0;34m\u001b[0m\u001b[0m\n\u001b[0m",
            "\u001b[0;31mTypeError\u001b[0m: 'tuple' object does not support item assignment"
          ]
        }
      ]
    },
    {
      "cell_type": "markdown",
      "source": [
        "값의 변경이 불가함"
      ],
      "metadata": {
        "id": "_DvncYZPKIvw"
      }
    },
    {
      "cell_type": "markdown",
      "source": [
        "tuple을 사용하는 이유:    \n",
        "프로그램이 작동하는 동안 변경되지 않는 데이터를 저장\n",
        "ex)학번, 이름 등"
      ],
      "metadata": {
        "id": "MmJD3PMkKLbv"
      }
    },
    {
      "cell_type": "code",
      "source": [
        "t=(1)\n",
        "type(t)  #정수로 인식함"
      ],
      "metadata": {
        "colab": {
          "base_uri": "https://localhost:8080/"
        },
        "id": "wJJbZjK3KIDP",
        "outputId": "3ef687d5-4213-4e16-c523-b8ec6d017eff"
      },
      "execution_count": 11,
      "outputs": [
        {
          "output_type": "execute_result",
          "data": {
            "text/plain": [
              "int"
            ]
          },
          "metadata": {},
          "execution_count": 11
        }
      ]
    },
    {
      "cell_type": "code",
      "source": [
        "t = (1,)\n",
        "type(t)  #tuple로 인식"
      ],
      "metadata": {
        "colab": {
          "base_uri": "https://localhost:8080/"
        },
        "id": "5EN6x3kQKYuO",
        "outputId": "5b443822-2056-4f07-808e-89b84131ca9d"
      },
      "execution_count": 12,
      "outputs": [
        {
          "output_type": "execute_result",
          "data": {
            "text/plain": [
              "tuple"
            ]
          },
          "metadata": {},
          "execution_count": 12
        }
      ]
    },
    {
      "cell_type": "markdown",
      "source": [
        "#set"
      ],
      "metadata": {
        "id": "f23A7XW0KioO"
      }
    },
    {
      "cell_type": "code",
      "source": [
        "s = set([1,2,3,1,2,3])\n",
        "s"
      ],
      "metadata": {
        "colab": {
          "base_uri": "https://localhost:8080/"
        },
        "id": "yldlxytNKd44",
        "outputId": "8ec56031-e692-48c8-fa17-c8595a8fdcd6"
      },
      "execution_count": 13,
      "outputs": [
        {
          "output_type": "execute_result",
          "data": {
            "text/plain": [
              "{1, 2, 3}"
            ]
          },
          "metadata": {},
          "execution_count": 13
        }
      ]
    },
    {
      "cell_type": "markdown",
      "source": [
        "중복된 값을 하나로 묶어줌"
      ],
      "metadata": {
        "id": "Gv_vUYOyKtc0"
      }
    },
    {
      "cell_type": "code",
      "source": [
        "a = {1,2,3,4,5}\n",
        "type(a)"
      ],
      "metadata": {
        "colab": {
          "base_uri": "https://localhost:8080/"
        },
        "id": "MaOzAVXrKqjb",
        "outputId": "e5510add-3e47-4468-dfa4-a62cc990be56"
      },
      "execution_count": 14,
      "outputs": [
        {
          "output_type": "execute_result",
          "data": {
            "text/plain": [
              "set"
            ]
          },
          "metadata": {},
          "execution_count": 14
        }
      ]
    },
    {
      "cell_type": "code",
      "source": [
        "s.remove(1)  #1삭제\n",
        "s"
      ],
      "metadata": {
        "colab": {
          "base_uri": "https://localhost:8080/"
        },
        "id": "ERLlGr68K_2x",
        "outputId": "fa1710a0-f749-4085-8079-6478f306ef3c"
      },
      "execution_count": 15,
      "outputs": [
        {
          "output_type": "execute_result",
          "data": {
            "text/plain": [
              "{2, 3}"
            ]
          },
          "metadata": {},
          "execution_count": 15
        }
      ]
    },
    {
      "cell_type": "code",
      "source": [
        "s.update([1,4,5,6,7])\n",
        "s"
      ],
      "metadata": {
        "colab": {
          "base_uri": "https://localhost:8080/"
        },
        "id": "q9-o7HKHLF6V",
        "outputId": "7d024257-c51f-40db-9e4a-79debce52168"
      },
      "execution_count": 16,
      "outputs": [
        {
          "output_type": "execute_result",
          "data": {
            "text/plain": [
              "{1, 2, 3, 4, 5, 6, 7}"
            ]
          },
          "metadata": {},
          "execution_count": 16
        }
      ]
    },
    {
      "cell_type": "code",
      "source": [
        "s.discard(3) #3삭제\n",
        "s"
      ],
      "metadata": {
        "colab": {
          "base_uri": "https://localhost:8080/"
        },
        "id": "5q4HJLzbLP6t",
        "outputId": "5e081a10-e87e-4374-e8cf-41f147d8980f"
      },
      "execution_count": 17,
      "outputs": [
        {
          "output_type": "execute_result",
          "data": {
            "text/plain": [
              "{1, 2, 4, 5, 6, 7}"
            ]
          },
          "metadata": {},
          "execution_count": 17
        }
      ]
    },
    {
      "cell_type": "code",
      "source": [
        "s.clear()  #모든 원소 삭제"
      ],
      "metadata": {
        "id": "Dw-O2iLpLUgq"
      },
      "execution_count": 18,
      "outputs": []
    },
    {
      "cell_type": "code",
      "source": [
        "s"
      ],
      "metadata": {
        "colab": {
          "base_uri": "https://localhost:8080/"
        },
        "id": "9TPJw9cMLZT2",
        "outputId": "54949921-9a7e-4e4d-9d37-488ea0609f1f"
      },
      "execution_count": 19,
      "outputs": [
        {
          "output_type": "execute_result",
          "data": {
            "text/plain": [
              "set()"
            ]
          },
          "metadata": {},
          "execution_count": 19
        }
      ]
    },
    {
      "cell_type": "markdown",
      "source": [
        "#집합 연산"
      ],
      "metadata": {
        "id": "Hzd41BRHD2A6"
      }
    },
    {
      "cell_type": "code",
      "source": [
        "s1 = set([1,2,3,4,5])\n",
        "s2 = set([3,4,5,6,7])\n",
        "type(s1), type(s2)"
      ],
      "metadata": {
        "colab": {
          "base_uri": "https://localhost:8080/"
        },
        "id": "8B-I8SKzLZ7A",
        "outputId": "94849be2-dada-4a3d-8f74-aa05ae89c4f6"
      },
      "execution_count": 20,
      "outputs": [
        {
          "output_type": "execute_result",
          "data": {
            "text/plain": [
              "(set, set)"
            ]
          },
          "metadata": {},
          "execution_count": 20
        }
      ]
    },
    {
      "cell_type": "code",
      "source": [
        "s1.union(s2)  #s1과 s2 합집합"
      ],
      "metadata": {
        "colab": {
          "base_uri": "https://localhost:8080/"
        },
        "id": "UlcsypCRDTkQ",
        "outputId": "878586db-9a85-4428-bd1d-fe818c1abc71"
      },
      "execution_count": 21,
      "outputs": [
        {
          "output_type": "execute_result",
          "data": {
            "text/plain": [
              "{1, 2, 3, 4, 5, 6, 7}"
            ]
          },
          "metadata": {},
          "execution_count": 21
        }
      ]
    },
    {
      "cell_type": "code",
      "source": [
        "s1 | s2  "
      ],
      "metadata": {
        "colab": {
          "base_uri": "https://localhost:8080/"
        },
        "id": "mPgTXCoIDYD7",
        "outputId": "2aa8244d-37d3-466c-92d1-9553ad5ad506"
      },
      "execution_count": 22,
      "outputs": [
        {
          "output_type": "execute_result",
          "data": {
            "text/plain": [
              "{1, 2, 3, 4, 5, 6, 7}"
            ]
          },
          "metadata": {},
          "execution_count": 22
        }
      ]
    },
    {
      "cell_type": "code",
      "source": [
        "s1.intersection(s2)  #s1과 s2의 교집합"
      ],
      "metadata": {
        "colab": {
          "base_uri": "https://localhost:8080/"
        },
        "id": "OpLdoctcDfcE",
        "outputId": "d907409e-6e70-4bbb-969d-1b7dc01e398d"
      },
      "execution_count": 23,
      "outputs": [
        {
          "output_type": "execute_result",
          "data": {
            "text/plain": [
              "{3, 4, 5}"
            ]
          },
          "metadata": {},
          "execution_count": 23
        }
      ]
    },
    {
      "cell_type": "code",
      "source": [
        "s1&s2"
      ],
      "metadata": {
        "colab": {
          "base_uri": "https://localhost:8080/"
        },
        "id": "-yODNl8ADnvs",
        "outputId": "01e22db0-eee9-4b99-f283-415dca82881d"
      },
      "execution_count": 24,
      "outputs": [
        {
          "output_type": "execute_result",
          "data": {
            "text/plain": [
              "{3, 4, 5}"
            ]
          },
          "metadata": {},
          "execution_count": 24
        }
      ]
    },
    {
      "cell_type": "code",
      "source": [
        "s1.difference(s2)   #s1과 s2의 차집합"
      ],
      "metadata": {
        "colab": {
          "base_uri": "https://localhost:8080/"
        },
        "id": "aGeG7JIRDs4H",
        "outputId": "ee81829f-51cf-4d20-9755-67ba54bde40c"
      },
      "execution_count": 25,
      "outputs": [
        {
          "output_type": "execute_result",
          "data": {
            "text/plain": [
              "{1, 2}"
            ]
          },
          "metadata": {},
          "execution_count": 25
        }
      ]
    },
    {
      "cell_type": "markdown",
      "source": [
        "#dict\n",
        "key(고유한 값)을 활용하여, 데이터 값(value)를 관리       \n",
        "key와 value를 매칭하여 key로 value를 검색         \n",
        "{key1:Value1, key2:Value2} "
      ],
      "metadata": {
        "id": "U41tys3AD9OB"
      }
    },
    {
      "cell_type": "code",
      "source": [
        "country_code = {}  #Dict 생성, country_code = dict() 도 가능\n",
        "country_code = {\"America\":1, \"Korea\":82, \"China\":86}\n",
        "country_code"
      ],
      "metadata": {
        "colab": {
          "base_uri": "https://localhost:8080/"
        },
        "id": "dRWo-ipsD8KH",
        "outputId": "8b8731f5-9bf7-435b-b3c8-3e4ffbeb9570"
      },
      "execution_count": 26,
      "outputs": [
        {
          "output_type": "execute_result",
          "data": {
            "text/plain": [
              "{'America': 1, 'Korea': 82, 'China': 86}"
            ]
          },
          "metadata": {},
          "execution_count": 26
        }
      ]
    },
    {
      "cell_type": "code",
      "source": [
        "for dict_items in country_code.items():\n",
        "  print(type(dict_items))"
      ],
      "metadata": {
        "colab": {
          "base_uri": "https://localhost:8080/"
        },
        "id": "FqCbshsvFCIv",
        "outputId": "d8eef67e-ea3d-454c-d4eb-50fd7c6b3bfb"
      },
      "execution_count": 27,
      "outputs": [
        {
          "output_type": "stream",
          "name": "stdout",
          "text": [
            "<class 'tuple'>\n",
            "<class 'tuple'>\n",
            "<class 'tuple'>\n"
          ]
        }
      ]
    },
    {
      "cell_type": "markdown",
      "source": [
        "items를 사용하면 key와 value값을 쌍으로 얻을 수 있습니다."
      ],
      "metadata": {
        "id": "14Jp3gpJFTg5"
      }
    },
    {
      "cell_type": "code",
      "source": [
        "country_code.keys()  #키 값만 출력"
      ],
      "metadata": {
        "colab": {
          "base_uri": "https://localhost:8080/"
        },
        "id": "3OqJXEhVFIXb",
        "outputId": "c77aaeb8-8b5c-4004-ea1e-692346d6ebe5"
      },
      "execution_count": 28,
      "outputs": [
        {
          "output_type": "execute_result",
          "data": {
            "text/plain": [
              "dict_keys(['America', 'Korea', 'China'])"
            ]
          },
          "metadata": {},
          "execution_count": 28
        }
      ]
    },
    {
      "cell_type": "code",
      "source": [
        "country_code['German'] = 49  #Dict 추가\n",
        "country_code"
      ],
      "metadata": {
        "colab": {
          "base_uri": "https://localhost:8080/"
        },
        "id": "968kzQ9PFgQs",
        "outputId": "47fad026-912f-4c09-fef1-65cef69ffa19"
      },
      "execution_count": 29,
      "outputs": [
        {
          "output_type": "execute_result",
          "data": {
            "text/plain": [
              "{'America': 1, 'Korea': 82, 'China': 86, 'German': 49}"
            ]
          },
          "metadata": {},
          "execution_count": 29
        }
      ]
    },
    {
      "cell_type": "code",
      "source": [
        "country_code['German'] = 55 #기존 키값이 변경됨\n",
        "country_code"
      ],
      "metadata": {
        "colab": {
          "base_uri": "https://localhost:8080/"
        },
        "id": "7ggrdCMpFsg1",
        "outputId": "e94f4644-09ec-44d9-b26f-39e91581ab8e"
      },
      "execution_count": 30,
      "outputs": [
        {
          "output_type": "execute_result",
          "data": {
            "text/plain": [
              "{'America': 1, 'Korea': 82, 'China': 86, 'German': 55}"
            ]
          },
          "metadata": {},
          "execution_count": 30
        }
      ]
    },
    {
      "cell_type": "code",
      "source": [
        "country_code.values()  #Dict Value만 출력"
      ],
      "metadata": {
        "colab": {
          "base_uri": "https://localhost:8080/"
        },
        "id": "gQTEcPqtF1S_",
        "outputId": "d11be925-bdfd-4c1a-ae15-3929066e9f1a"
      },
      "execution_count": 31,
      "outputs": [
        {
          "output_type": "execute_result",
          "data": {
            "text/plain": [
              "dict_values([1, 82, 86, 55])"
            ]
          },
          "metadata": {},
          "execution_count": 31
        }
      ]
    },
    {
      "cell_type": "markdown",
      "source": [
        "##key와 value 각각 출력"
      ],
      "metadata": {
        "id": "pbW-sULfH2C3"
      }
    },
    {
      "cell_type": "code",
      "source": [
        "for k, v in country_code.items():\n",
        "  print(\"key:\", k)\n",
        "  print(\"Value:\",v)"
      ],
      "metadata": {
        "colab": {
          "base_uri": "https://localhost:8080/"
        },
        "id": "k_-YzMOVHv_a",
        "outputId": "316af347-0a66-4184-c92d-12ad9de36020"
      },
      "execution_count": 32,
      "outputs": [
        {
          "output_type": "stream",
          "name": "stdout",
          "text": [
            "key: America\n",
            "Value: 1\n",
            "key: Korea\n",
            "Value: 82\n",
            "key: China\n",
            "Value: 86\n",
            "key: German\n",
            "Value: 55\n"
          ]
        }
      ]
    },
    {
      "cell_type": "code",
      "source": [
        "\"korea\" in country_code.keys()  #key값에 \"korea\"가 있는지 확인"
      ],
      "metadata": {
        "colab": {
          "base_uri": "https://localhost:8080/"
        },
        "id": "ivFswfxUIMOf",
        "outputId": "ecdfd809-0eb2-4b9c-e86b-fcf4a3db5559"
      },
      "execution_count": 33,
      "outputs": [
        {
          "output_type": "execute_result",
          "data": {
            "text/plain": [
              "False"
            ]
          },
          "metadata": {},
          "execution_count": 33
        }
      ]
    },
    {
      "cell_type": "markdown",
      "source": [
        "Command: 사용자가 서버에 명령어를 입력한 명령어"
      ],
      "metadata": {
        "id": "a080zEFcIlOp"
      }
    },
    {
      "cell_type": "code",
      "source": [
        "import csv\n",
        "\n",
        "def getKey(item):   #정렬을 위한 함수\n",
        "  return item[1]\n",
        "\n",
        "command_data=[]\n",
        "with open(\"command_data.csv\",\"r\", encoding=\"utf8\") as csvfile:\n",
        "  spamreader = csv.reader(csvfile, delimiter=',', quotechar='\"')\n",
        "  for row in spamreader:\n",
        "    command_data.append(row)\n",
        "\n",
        "command_counter={}  #dict를 생성, key값은 아이디로 설정\n",
        "for data in command_data:\n",
        "  if data[1] in command_counter.keys():  #아이디가 이미 key값으로 \n",
        "    command_counter[data[1]] += 1   #기존 출현한 아이디\n",
        "  else:\n",
        "    command_counter[data[1]] = 1 #처음 나온 아이디\n",
        "\n",
        "\n",
        "dictlist = []\n",
        "for key, value in command_counter.items():\n",
        "  temp = [key, value]\n",
        "  dictlist.append(temp)\n",
        "print(dictlist)\n",
        "sorted_dict = sorted(dictlist, key=getKey, reverse=True)  #첫번째 숫자를 기준으로 정렬\n",
        "#key값을 설정해주어야 함\n",
        "print(sorted_dict[:100])  #상위 100개 값만 출력"
      ],
      "metadata": {
        "colab": {
          "base_uri": "https://localhost:8080/"
        },
        "id": "-V2N1m-7IX1s",
        "outputId": "987b8467-f3b7-4369-c19b-37b9bc0a2a73"
      },
      "execution_count": 34,
      "outputs": [
        {
          "output_type": "stream",
          "name": "stdout",
          "text": [
            "[['id', 1], ['source', 1], ['tiana', 148], ['white_rabbit', 152], ['flo', 317], ['chum', 194], ['rocket_raccoon', 473], ['faline', 1355], ['kristoff', 2265], ['tinker_bell', 592], ['crush', 179], ['flik', 250], ['claire_wheeler', 2556], ['meg', 2611], ['fillmore', 6708], ['tarzan', 3858], ['bomb_voyage', 236], ['prince_naveen', 362], ['disgust', 277], ['bo_peep', 217], ['francis', 4905], ['aladdin', 323], ['eve', 188], ['bookworm', 7298], ['cheshire_cat', 171], ['anna', 237], ['emperor_zurg', 4466], ['the_dodo', 609], ['finn_mcmissile', 227], ['barricade', 5], ['fear', 1427], ['marlon_the_alligator', 2310], ['don_carlton', 1405], ['alice', 106], ['carrie_williams', 177], ['boo', 262], ['bing_bong', 235], ['charlie', 302], ['snow_white', 104], ['elsa', 1764], ['emile', 140], ['django', 251], ['fred', 195], ['bambi', 255], ['fa_zhou', 236], ['fritz', 87], ['duke_of_weselton', 182], ['nani_pelekai', 195], ['the_magic_mirror', 94], ['mulan', 154], ['thor', 97], ['flynn_rider', 1386], ['lilo_pelekai', 82], ['anton_ego', 3313], ['queen_grimhilde', 2906], ['tiger_lily', 1170], ['mungo', 133], ['tigger', 403], ['guido', 2505], ['stitch', 3442], ['mama_odie', 1238], ['shell_history', 46], ['flora', 91], ['chick_hicks', 1453], ['francesco_bernoulli', 229], ['darla_sherman', 1749], ['brent_mustangburger', 2025], ['charlotte_la_bouff', 393], ['riley_anderson', 202], ['joy', 30], ['sadness', 113], ['prince_hans', 253], ['chatter_telephone', 325], ['rapunzel', 125], ['peter_pig', 246], ['dory', 336], ['jane_porter', 475], ['chunk', 120], ['louis_the_alligator', 711], ['brock_pearson', 177], ['coral', 136], ['darrell_cartrip', 97], ['maximus', 87], ['ray_the_firefly', 441], ['bumblebee', 260], ['kocoum', 78], ['al_mcwhiggin', 423], ['auguste_gusteau', 98], ['auto', 290], ['roo', 1726], ['roger_rabbit', 118], ['captain_hook', 223], ['collette_tatou', 150], ['eudora', 163], ['storm', 18], ['dim', 165], ['dolly', 250], ['aurora', 147], ['pocahontas', 227], ['genie', 26], ['splunk_teamlab', 115], ['pascal', 97], ['peter_pan', 314], ['merryweather', 74], ['wendy_darling', 99], ['nakoma', 102], ['hadoop_teamlab', 53], ['abominable_snowman', 1], ['silver_surfer', 1], ['', 1]]\n",
            "[['bookworm', 7298], ['fillmore', 6708], ['francis', 4905], ['emperor_zurg', 4466], ['tarzan', 3858], ['stitch', 3442], ['anton_ego', 3313], ['queen_grimhilde', 2906], ['meg', 2611], ['claire_wheeler', 2556], ['guido', 2505], ['marlon_the_alligator', 2310], ['kristoff', 2265], ['brent_mustangburger', 2025], ['elsa', 1764], ['darla_sherman', 1749], ['roo', 1726], ['chick_hicks', 1453], ['fear', 1427], ['don_carlton', 1405], ['flynn_rider', 1386], ['faline', 1355], ['mama_odie', 1238], ['tiger_lily', 1170], ['louis_the_alligator', 711], ['the_dodo', 609], ['tinker_bell', 592], ['jane_porter', 475], ['rocket_raccoon', 473], ['ray_the_firefly', 441], ['al_mcwhiggin', 423], ['tigger', 403], ['charlotte_la_bouff', 393], ['prince_naveen', 362], ['dory', 336], ['chatter_telephone', 325], ['aladdin', 323], ['flo', 317], ['peter_pan', 314], ['charlie', 302], ['auto', 290], ['disgust', 277], ['boo', 262], ['bumblebee', 260], ['bambi', 255], ['prince_hans', 253], ['django', 251], ['flik', 250], ['dolly', 250], ['peter_pig', 246], ['anna', 237], ['bomb_voyage', 236], ['fa_zhou', 236], ['bing_bong', 235], ['francesco_bernoulli', 229], ['finn_mcmissile', 227], ['pocahontas', 227], ['captain_hook', 223], ['bo_peep', 217], ['riley_anderson', 202], ['fred', 195], ['nani_pelekai', 195], ['chum', 194], ['eve', 188], ['duke_of_weselton', 182], ['crush', 179], ['carrie_williams', 177], ['brock_pearson', 177], ['cheshire_cat', 171], ['dim', 165], ['eudora', 163], ['mulan', 154], ['white_rabbit', 152], ['collette_tatou', 150], ['tiana', 148], ['aurora', 147], ['emile', 140], ['coral', 136], ['mungo', 133], ['rapunzel', 125], ['chunk', 120], ['roger_rabbit', 118], ['splunk_teamlab', 115], ['sadness', 113], ['alice', 106], ['snow_white', 104], ['nakoma', 102], ['wendy_darling', 99], ['auguste_gusteau', 98], ['thor', 97], ['darrell_cartrip', 97], ['pascal', 97], ['the_magic_mirror', 94], ['flora', 91], ['fritz', 87], ['maximus', 87], ['lilo_pelekai', 82], ['kocoum', 78], ['merryweather', 74], ['hadoop_teamlab', 53]]\n"
          ]
        }
      ]
    },
    {
      "cell_type": "markdown",
      "source": [
        "csv파일을 줄로 저장하고 각 줄의 값은 delimeter를 통해 구분된다.        \n",
        "delimeter(=separator)은 구분자라는 뜻으로 쉼표로 구분한다는 뜻이다.          \n",
        "여기서 나뉘면 안되는 데이터는 quotechar을 사용해 \"로 묶어주도록 한다"
      ],
      "metadata": {
        "id": "Tti-m32iKaKk"
      }
    },
    {
      "cell_type": "markdown",
      "source": [
        "#collections\n",
        "list, tuple, dict에 대한 python built-in 확장 자료 구조(모듈)"
      ],
      "metadata": {
        "id": "RpoctavGMpfk"
      }
    },
    {
      "cell_type": "markdown",
      "source": [
        "###deque\n",
        "\n",
        "stack과 Queue를 지원하는 모듈         \n",
        "List에 비해 효율적인 빠른 자료 저장 방식 지원"
      ],
      "metadata": {
        "id": "09mk0yo-M1cu"
      }
    },
    {
      "cell_type": "code",
      "source": [
        "from collections import deque\n",
        "\n",
        "deque_list = deque()\n",
        "for i in range(5):\n",
        "  deque_list.append(i)\n",
        "deque_list.append(100)\n",
        "deque_list"
      ],
      "metadata": {
        "colab": {
          "base_uri": "https://localhost:8080/"
        },
        "id": "nVwGTh6YKEdv",
        "outputId": "04b8373b-f228-40ab-c628-27c4f0b2c781"
      },
      "execution_count": 35,
      "outputs": [
        {
          "output_type": "execute_result",
          "data": {
            "text/plain": [
              "deque([0, 1, 2, 3, 4, 100])"
            ]
          },
          "metadata": {},
          "execution_count": 35
        }
      ]
    },
    {
      "cell_type": "code",
      "source": [
        "deque_list.appendleft(100)\n",
        "deque_list"
      ],
      "metadata": {
        "colab": {
          "base_uri": "https://localhost:8080/"
        },
        "id": "fSsenyITNZr7",
        "outputId": "19ecf45d-9862-4ad0-a456-586b58be7fa7"
      },
      "execution_count": 36,
      "outputs": [
        {
          "output_type": "execute_result",
          "data": {
            "text/plain": [
              "deque([100, 0, 1, 2, 3, 4, 100])"
            ]
          },
          "metadata": {},
          "execution_count": 36
        }
      ]
    },
    {
      "cell_type": "code",
      "source": [
        " deque_list.rotate(1)"
      ],
      "metadata": {
        "id": "uHEywprJNl0E"
      },
      "execution_count": 37,
      "outputs": []
    },
    {
      "cell_type": "code",
      "source": [
        "deque_list"
      ],
      "metadata": {
        "colab": {
          "base_uri": "https://localhost:8080/"
        },
        "id": "o7tclPU3N4C7",
        "outputId": "1fe1e992-3a4b-47c0-b7c2-b54c77109730"
      },
      "execution_count": 38,
      "outputs": [
        {
          "output_type": "execute_result",
          "data": {
            "text/plain": [
              "deque([100, 100, 0, 1, 2, 3, 4])"
            ]
          },
          "metadata": {},
          "execution_count": 38
        }
      ]
    },
    {
      "cell_type": "code",
      "source": [
        "deque_list.extend([5,6,7])\n",
        "deque_list"
      ],
      "metadata": {
        "colab": {
          "base_uri": "https://localhost:8080/"
        },
        "id": "Vx54LQH2N5si",
        "outputId": "aa4936dc-2e50-4d94-f444-ac4b55697e37"
      },
      "execution_count": 39,
      "outputs": [
        {
          "output_type": "execute_result",
          "data": {
            "text/plain": [
              "deque([100, 100, 0, 1, 2, 3, 4, 5, 6, 7])"
            ]
          },
          "metadata": {},
          "execution_count": 39
        }
      ]
    },
    {
      "cell_type": "code",
      "source": [
        "deque_list.extendleft([5,6,7]) #앞에 붙음"
      ],
      "metadata": {
        "id": "qt8ovscgOApt"
      },
      "execution_count": 40,
      "outputs": []
    },
    {
      "cell_type": "code",
      "source": [
        "deque_list"
      ],
      "metadata": {
        "colab": {
          "base_uri": "https://localhost:8080/"
        },
        "id": "H1SO3l8VOFXO",
        "outputId": "cbb14190-a74c-40cd-d15d-3a70322142b2"
      },
      "execution_count": 41,
      "outputs": [
        {
          "output_type": "execute_result",
          "data": {
            "text/plain": [
              "deque([7, 6, 5, 100, 100, 0, 1, 2, 3, 4, 5, 6, 7])"
            ]
          },
          "metadata": {},
          "execution_count": 41
        }
      ]
    },
    {
      "cell_type": "markdown",
      "source": [
        "#deque vs list\n",
        "\n",
        "기존의 list보다 효율적인 자료구조를 제공"
      ],
      "metadata": {
        "id": "XiAcmvfKS4oW"
      }
    },
    {
      "cell_type": "code",
      "source": [
        "from collections import deque\n",
        "import time"
      ],
      "metadata": {
        "id": "o9BoDZZyTOfB"
      },
      "execution_count": 42,
      "outputs": []
    },
    {
      "cell_type": "code",
      "source": [
        "# from collections import deque\n",
        "# import time\n",
        "\n",
        "start_time = time.process_time() \n",
        "\n",
        "def deque_list():\n",
        "  deque_list = deque()\n",
        "\n",
        "  for i in range(100):\n",
        "    for i in range(100):\n",
        "      deque_list.append(i)\n",
        "      deque_list.pop()\n",
        "\n",
        "%timeit deque_list()"
      ],
      "metadata": {
        "colab": {
          "base_uri": "https://localhost:8080/"
        },
        "id": "y4h7TGHsOG9t",
        "outputId": "00ad970d-7b22-4d39-c432-153f77a455ce"
      },
      "execution_count": 43,
      "outputs": [
        {
          "output_type": "stream",
          "name": "stdout",
          "text": [
            "1.19 ms ± 20.5 µs per loop (mean ± std. dev. of 7 runs, 1000 loops each)\n"
          ]
        }
      ]
    },
    {
      "cell_type": "code",
      "source": [
        "#general_list\n",
        "\n",
        "import time\n",
        "start_time = time.process_time() \n",
        "just_list = []\n",
        "for i in range(10000):\n",
        "  for i in range(10000):\n",
        "    just_list.append(i)\n",
        "    just_list.pop()\n",
        "print(time.process_time() - start_time, \"seconds\")\n"
      ],
      "metadata": {
        "colab": {
          "base_uri": "https://localhost:8080/"
        },
        "id": "9AgzrWw9OfGP",
        "outputId": "72f24db6-b494-4868-932e-0c039cb530c4"
      },
      "execution_count": 45,
      "outputs": [
        {
          "output_type": "stream",
          "name": "stdout",
          "text": [
            "27.154718158999998 seconds\n"
          ]
        }
      ]
    },
    {
      "cell_type": "markdown",
      "source": [
        "#OrderedDict\n",
        "dict와 달리, 데이터를 입력한 순서대로 dict를 반환함         \n",
        "현재는 의미가 없음"
      ],
      "metadata": {
        "id": "A2Ghr6vjOisO"
      }
    },
    {
      "cell_type": "markdown",
      "source": [
        "#DefaultDict\n",
        "Dict type의 값에 기본 값을 지정, 신규값 생성시 사용하는 방법"
      ],
      "metadata": {
        "id": "FaoSlVavO07l"
      }
    },
    {
      "cell_type": "code",
      "source": [
        "def default_value():\n",
        "  return 10"
      ],
      "metadata": {
        "id": "D13dWmd9PIsQ"
      },
      "execution_count": 46,
      "outputs": []
    },
    {
      "cell_type": "code",
      "source": [
        "d = dict()\n",
        "print(d[\"first\"])  #dict를 만들지 않았기 때문에 error발생"
      ],
      "metadata": {
        "colab": {
          "base_uri": "https://localhost:8080/",
          "height": 190
        },
        "id": "RA0FKiM-Or2k",
        "outputId": "b81059d6-0c33-43c7-a489-10cf33a0564f"
      },
      "execution_count": 47,
      "outputs": [
        {
          "output_type": "error",
          "ename": "KeyError",
          "evalue": "ignored",
          "traceback": [
            "\u001b[0;31m---------------------------------------------------------------------------\u001b[0m",
            "\u001b[0;31mKeyError\u001b[0m                                  Traceback (most recent call last)",
            "\u001b[0;32m<ipython-input-47-3b4ee8f5b4c3>\u001b[0m in \u001b[0;36m<module>\u001b[0;34m\u001b[0m\n\u001b[1;32m      1\u001b[0m \u001b[0md\u001b[0m \u001b[0;34m=\u001b[0m \u001b[0mdict\u001b[0m\u001b[0;34m(\u001b[0m\u001b[0;34m)\u001b[0m\u001b[0;34m\u001b[0m\u001b[0;34m\u001b[0m\u001b[0m\n\u001b[0;32m----> 2\u001b[0;31m \u001b[0mprint\u001b[0m\u001b[0;34m(\u001b[0m\u001b[0md\u001b[0m\u001b[0;34m[\u001b[0m\u001b[0;34m\"first\"\u001b[0m\u001b[0;34m]\u001b[0m\u001b[0;34m)\u001b[0m\u001b[0;34m\u001b[0m\u001b[0;34m\u001b[0m\u001b[0m\n\u001b[0m",
            "\u001b[0;31mKeyError\u001b[0m: 'first'"
          ]
        }
      ]
    },
    {
      "cell_type": "code",
      "source": [
        "from collections import defaultdict\n",
        "d = defaultdict(lambda : 0)\n",
        "d"
      ],
      "metadata": {
        "colab": {
          "base_uri": "https://localhost:8080/"
        },
        "id": "Q-J4u1YwPASJ",
        "outputId": "53e4dd7e-fb98-430b-e747-39e719687c0f"
      },
      "execution_count": 48,
      "outputs": [
        {
          "output_type": "execute_result",
          "data": {
            "text/plain": [
              "defaultdict(<function __main__.<lambda>()>, {})"
            ]
          },
          "metadata": {},
          "execution_count": 48
        }
      ]
    },
    {
      "cell_type": "code",
      "source": [
        "d[\"first\"]"
      ],
      "metadata": {
        "colab": {
          "base_uri": "https://localhost:8080/"
        },
        "id": "FpwsWo10PP4i",
        "outputId": "4130f731-14c9-47ea-c4de-c37759cbdbe3"
      },
      "execution_count": 49,
      "outputs": [
        {
          "output_type": "execute_result",
          "data": {
            "text/plain": [
              "0"
            ]
          },
          "metadata": {},
          "execution_count": 49
        }
      ]
    },
    {
      "cell_type": "markdown",
      "source": [
        "#Counter\n",
        "Sequence type의 data element들의 갯수를 dict형태로 반환"
      ],
      "metadata": {
        "id": "Ux4dQGB2P1hr"
      }
    },
    {
      "cell_type": "code",
      "source": [
        "from collections import Counter"
      ],
      "metadata": {
        "id": "q7DcOosaPRDj"
      },
      "execution_count": 50,
      "outputs": []
    },
    {
      "cell_type": "code",
      "source": [
        "ball_or_strike =[\"B\",\"S\",\"B\"]"
      ],
      "metadata": {
        "id": "mbXuOp1MP-Dy"
      },
      "execution_count": 51,
      "outputs": []
    },
    {
      "cell_type": "code",
      "source": [
        "c = Counter(ball_or_strike)  #값의 개수를 세어 줌\n",
        "c"
      ],
      "metadata": {
        "colab": {
          "base_uri": "https://localhost:8080/"
        },
        "id": "YbCWKeq6QB_d",
        "outputId": "707a04d7-1ec8-446d-c409-f68007b232c6"
      },
      "execution_count": 52,
      "outputs": [
        {
          "output_type": "execute_result",
          "data": {
            "text/plain": [
              "Counter({'B': 2, 'S': 1})"
            ]
          },
          "metadata": {},
          "execution_count": 52
        }
      ]
    },
    {
      "cell_type": "code",
      "source": [
        "c = Counter({\"red\":4, \"gray\": 2})\n",
        "print(list(c.elements()))"
      ],
      "metadata": {
        "colab": {
          "base_uri": "https://localhost:8080/"
        },
        "id": "oVcj31C6QFrr",
        "outputId": "72c7e407-836f-4e31-d55c-0b781de83fb6"
      },
      "execution_count": 53,
      "outputs": [
        {
          "output_type": "stream",
          "name": "stdout",
          "text": [
            "['red', 'red', 'red', 'red', 'gray', 'gray']\n"
          ]
        }
      ]
    },
    {
      "cell_type": "code",
      "source": [
        "#set 연산들을 지원함\n",
        "c = Counter(a=4, b=2, c=0,d=-2)\n",
        "d = Counter(a=1, b=2, c=3, d=4)\n",
        "print(c+d)\n",
        "print(c & d)\n",
        "print(c | d)"
      ],
      "metadata": {
        "colab": {
          "base_uri": "https://localhost:8080/"
        },
        "id": "gQPfT4jCQTLx",
        "outputId": "24324c10-c70c-47fc-f4a2-32aae83a08d8"
      },
      "execution_count": 54,
      "outputs": [
        {
          "output_type": "stream",
          "name": "stdout",
          "text": [
            "Counter({'a': 5, 'b': 4, 'c': 3, 'd': 2})\n",
            "Counter({'b': 2, 'a': 1})\n",
            "Counter({'a': 4, 'd': 4, 'c': 3, 'b': 2})\n"
          ]
        }
      ]
    },
    {
      "cell_type": "code",
      "source": [
        "text = \"\"\"A press release is the quickest and easiest way to get free publicity. If\n",
        "well written, a press release can result in multiple published articles about your\n",
        "firm and its products. And that can mean new prospects contacting you asking you to\n",
        "sell to them. ….\"\"\".lower().split()\n",
        "\n",
        "sorted(Counter(text).items(), key= lambda t : t[1], reverse = True)\n",
        "print(Counter(text).items())\n",
        "print(Counter(text)[\"a\"])"
      ],
      "metadata": {
        "colab": {
          "base_uri": "https://localhost:8080/"
        },
        "id": "hZnOClknQqwG",
        "outputId": "b86e8661-6763-448b-874b-b15e9534af81"
      },
      "execution_count": 55,
      "outputs": [
        {
          "output_type": "stream",
          "name": "stdout",
          "text": [
            "dict_items([('a', 2), ('press', 2), ('release', 2), ('is', 1), ('the', 1), ('quickest', 1), ('and', 3), ('easiest', 1), ('way', 1), ('to', 3), ('get', 1), ('free', 1), ('publicity.', 1), ('if', 1), ('well', 1), ('written,', 1), ('can', 2), ('result', 1), ('in', 1), ('multiple', 1), ('published', 1), ('articles', 1), ('about', 1), ('your', 1), ('firm', 1), ('its', 1), ('products.', 1), ('that', 1), ('mean', 1), ('new', 1), ('prospects', 1), ('contacting', 1), ('you', 2), ('asking', 1), ('sell', 1), ('them.', 1), ('….', 1)])\n",
            "2\n"
          ]
        }
      ]
    },
    {
      "cell_type": "markdown",
      "source": [
        "#namedtuple\n",
        "\n",
        "tuple 형태로 Data 구조체를 저장하는 방법      \n",
        "저장되는 data의 variable을 사전에 지정해서 저장함"
      ],
      "metadata": {
        "id": "OETPbqVARXi3"
      }
    },
    {
      "cell_type": "code",
      "source": [
        "from collections import namedtuple\n",
        "Point = namedtuple('Point', ['x','y'])   #print(x,y)\n",
        "p = Point(11, y=22)  #x=11, y=22\n",
        "print(\"p.x + p.y=\", p.x + p.y)\n",
        "print(p[0]+p[1])"
      ],
      "metadata": {
        "colab": {
          "base_uri": "https://localhost:8080/"
        },
        "id": "dFAGtokZQ6Zt",
        "outputId": "f7d86c6f-ecd2-41e0-af01-38280f27b4aa"
      },
      "execution_count": 56,
      "outputs": [
        {
          "output_type": "stream",
          "name": "stdout",
          "text": [
            "p.x + p.y= 33\n",
            "33\n"
          ]
        }
      ]
    }
  ]
}